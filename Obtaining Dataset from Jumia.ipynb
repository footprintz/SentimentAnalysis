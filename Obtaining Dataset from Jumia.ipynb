{
 "cells": [
  {
   "cell_type": "code",
   "execution_count": 1,
   "metadata": {},
   "outputs": [],
   "source": [
    "# Importing the libraries\n",
    "import requests \n",
    "import re\n",
    "import html5lib\n",
    "import pandas as pd\n",
    "from bs4 import BeautifulSoup, SoupStrainer"
   ]
  },
  {
   "cell_type": "code",
   "execution_count": 2,
   "metadata": {},
   "outputs": [],
   "source": [
    "# Getting the data\n",
    "url = 'https://www.jumia.com.ng/catalog/productratingsreviews/sku/LI287ST1FXHNCNAFAMZ/'"
   ]
  },
  {
   "cell_type": "code",
   "execution_count": 3,
   "metadata": {},
   "outputs": [],
   "source": [
    "# Obtaining the text from the url\n",
    "r = requests.get(url)\n",
    "soup = BeautifulSoup(r.text, 'html.parser')"
   ]
  },
  {
   "cell_type": "code",
   "execution_count": 4,
   "metadata": {},
   "outputs": [],
   "source": [
    "customer_name = soup.find(\"span\")\n",
    "simple_soup = soup.find_all('p',{'class':\"-pvs\"}) \n",
    "article_soup = soup.find_all('span', {'class':\"-pvs\"}) \n",
    "product = SoupStrainer('div',{'id': 'Product Reviews'})\n",
    "soups = BeautifulSoup(\"html.parser\",parse_only=product)\n",
    "ratings = soup.find_all('div', {'class':\"stars _m _al -mvs\"})\n",
    "title = soup.find('title') "
   ]
  },
  {
   "cell_type": "code",
   "execution_count": 5,
   "metadata": {},
   "outputs": [],
   "source": [
    "product_reviews = soup.find_all('div',{'class':\"cola -phm -df -d-co\"}) \n",
    "product_reviews \n",
    "for items in product_reviews: \n",
    "    title = soup.find('title')  \n",
    "    comments = items.find_all('p',{'class':\"-pvs\"})\n",
    "    ratings = items.find_all('div', {'class':\"stars _m _al -mvs\"}) "
   ]
  },
  {
   "cell_type": "code",
   "execution_count": 6,
   "metadata": {},
   "outputs": [],
   "source": [
    "product_reviews = soup.find_all('div',{'class':\"cola -phm -df -d-co\"}) \n",
    "product_reviews \n",
    "for items in product_reviews: \n",
    "    reviews = {\n",
    "    'title':soup.find('title'), \n",
    "    'comments':items.find_all('p',{'class':\"-pvs\"}),\n",
    "    'ratings':items.find_all('div', {'class':\"stars _m _al -mvs\"}),  \n",
    "    } "
   ]
  },
  {
   "cell_type": "code",
   "execution_count": 7,
   "metadata": {},
   "outputs": [],
   "source": [
    "for x in range(1,30):\n",
    "    url = 'https://www.jumia.com.ng/catalog/productratingsreviews/sku/LI287ST1FXHNCNAFAMZ/?page={x}'\n",
    "    def get_soup(url):\n",
    "        r = requests.get(url)\n",
    "        soup = BeautifulSoup(r.text, 'html parser')\n",
    "        return soup \n",
    "        locator(soup) "
   ]
  },
  {
   "cell_type": "code",
   "execution_count": 8,
   "metadata": {
    "scrolled": true
   },
   "outputs": [],
   "source": [
    "def locator(span, attrs={}):\n",
    "    vals = soup.find_all(span, attrs)\n",
    "    return [i.text for i in vals]\n",
    "\n",
    "\n",
    "new_title = [a for a in locator('title')]\n",
    "comments = [a for a in locator('p', {'class':\"-pvs\"})]\n",
    "ratings = [a for a in locator('div', {'class':'stars _m _al -mvs'})]\n"
   ]
  },
  {
   "cell_type": "code",
   "execution_count": 9,
   "metadata": {
    "scrolled": true
   },
   "outputs": [
    {
     "data": {
      "text/plain": [
       "['Good buy',\n",
       " \"It's good and affordable have ordered over 15 bottles so far\",\n",
       " \"Nice scent. Doesn't stick when used. Dries almost immediately.\",\n",
       " 'Hello Jumia, Quality is good,Thank you Jumia.',\n",
       " 'Good one',\n",
       " 'It is good to the touch. No residues left over. Quality stuff.',\n",
       " 'Its good smells nice',\n",
       " 'Love the fragrance',\n",
       " '100%%\\nWorking fine',\n",
       " 'Nice product']"
      ]
     },
     "execution_count": 9,
     "metadata": {},
     "output_type": "execute_result"
    }
   ],
   "source": [
    "comments"
   ]
  },
  {
   "cell_type": "code",
   "execution_count": 10,
   "metadata": {},
   "outputs": [
    {
     "data": {
      "text/html": [
       "<div>\n",
       "<style scoped>\n",
       "    .dataframe tbody tr th:only-of-type {\n",
       "        vertical-align: middle;\n",
       "    }\n",
       "\n",
       "    .dataframe tbody tr th {\n",
       "        vertical-align: top;\n",
       "    }\n",
       "\n",
       "    .dataframe thead th {\n",
       "        text-align: right;\n",
       "    }\n",
       "</style>\n",
       "<table border=\"1\" class=\"dataframe\">\n",
       "  <thead>\n",
       "    <tr style=\"text-align: right;\">\n",
       "      <th></th>\n",
       "      <th>comments</th>\n",
       "      <th>rating</th>\n",
       "    </tr>\n",
       "  </thead>\n",
       "  <tbody>\n",
       "    <tr>\n",
       "      <th>0</th>\n",
       "      <td>Good buy</td>\n",
       "      <td>5 out of 5</td>\n",
       "    </tr>\n",
       "    <tr>\n",
       "      <th>1</th>\n",
       "      <td>It's good and affordable have ordered over 15 ...</td>\n",
       "      <td>4 out of 5</td>\n",
       "    </tr>\n",
       "    <tr>\n",
       "      <th>2</th>\n",
       "      <td>Nice scent. Doesn't stick when used. Dries alm...</td>\n",
       "      <td>5 out of 5</td>\n",
       "    </tr>\n",
       "    <tr>\n",
       "      <th>3</th>\n",
       "      <td>Hello Jumia, Quality is good,Thank you Jumia.</td>\n",
       "      <td>5 out of 5</td>\n",
       "    </tr>\n",
       "    <tr>\n",
       "      <th>4</th>\n",
       "      <td>Good one</td>\n",
       "      <td>5 out of 5</td>\n",
       "    </tr>\n",
       "    <tr>\n",
       "      <th>5</th>\n",
       "      <td>It is good to the touch. No residues left over...</td>\n",
       "      <td>5 out of 5</td>\n",
       "    </tr>\n",
       "    <tr>\n",
       "      <th>6</th>\n",
       "      <td>Its good smells nice</td>\n",
       "      <td>4 out of 5</td>\n",
       "    </tr>\n",
       "    <tr>\n",
       "      <th>7</th>\n",
       "      <td>Love the fragrance</td>\n",
       "      <td>5 out of 5</td>\n",
       "    </tr>\n",
       "    <tr>\n",
       "      <th>8</th>\n",
       "      <td>100%%\\nWorking fine</td>\n",
       "      <td>5 out of 5</td>\n",
       "    </tr>\n",
       "    <tr>\n",
       "      <th>9</th>\n",
       "      <td>Nice product</td>\n",
       "      <td>4 out of 5</td>\n",
       "    </tr>\n",
       "  </tbody>\n",
       "</table>\n",
       "</div>"
      ],
      "text/plain": [
       "                                            comments      rating\n",
       "0                                           Good buy  5 out of 5\n",
       "1  It's good and affordable have ordered over 15 ...  4 out of 5\n",
       "2  Nice scent. Doesn't stick when used. Dries alm...  5 out of 5\n",
       "3      Hello Jumia, Quality is good,Thank you Jumia.  5 out of 5\n",
       "4                                           Good one  5 out of 5\n",
       "5  It is good to the touch. No residues left over...  5 out of 5\n",
       "6                               Its good smells nice  4 out of 5\n",
       "7                                 Love the fragrance  5 out of 5\n",
       "8                                100%%\\nWorking fine  5 out of 5\n",
       "9                                       Nice product  4 out of 5"
      ]
     },
     "execution_count": 10,
     "metadata": {},
     "output_type": "execute_result"
    }
   ],
   "source": [
    "data = pd.DataFrame(zip(comments, ratings), \n",
    "                    columns = [ 'comments', 'rating']) \n",
    "data"
   ]
  },
  {
   "cell_type": "code",
   "execution_count": 12,
   "metadata": {},
   "outputs": [],
   "source": [
    "data.to_csv('Reviews.csv', index=False)  "
   ]
  },
  {
   "cell_type": "code",
   "execution_count": null,
   "metadata": {},
   "outputs": [],
   "source": []
  }
 ],
 "metadata": {
  "kernelspec": {
   "display_name": "Python 3",
   "language": "python",
   "name": "python3"
  },
  "language_info": {
   "codemirror_mode": {
    "name": "ipython",
    "version": 3
   },
   "file_extension": ".py",
   "mimetype": "text/x-python",
   "name": "python",
   "nbconvert_exporter": "python",
   "pygments_lexer": "ipython3",
   "version": "3.8.8"
  }
 },
 "nbformat": 4,
 "nbformat_minor": 4
}
